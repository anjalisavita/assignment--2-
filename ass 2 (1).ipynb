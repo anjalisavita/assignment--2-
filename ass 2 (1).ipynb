{
 "cells": [
  {
   "cell_type": "markdown",
   "id": "adb30dd1-4151-4305-872d-9ce42f9f299e",
   "metadata": {},
   "source": [
    " # Q1. How do you comment code in Python? What are the different types of comments?"
   ]
  },
  {
   "cell_type": "markdown",
   "id": "212aa0ee-3609-40f1-8889-066843cd5bf9",
   "metadata": {
    "tags": []
   },
   "source": [
    "# answer : In Python, you can comment code using the # symbol for single-line comments or triple quotes (''' or \"\"\") for multi-line comments. Single-line comments start with # and end with the line, while multi-line comments use triple quotes for comment blocks spanning multiple lines."
   ]
  },
  {
   "cell_type": "markdown",
   "id": "ec8aa3b3-6419-40a3-bc10-4cbf5b259c28",
   "metadata": {},
   "source": [
    "# Q2. What are variables in Python? How do you declare and assign values to variables?"
   ]
  },
  {
   "cell_type": "markdown",
   "id": "387671a3-eb20-493c-a0cd-5288cbf73cf1",
   "metadata": {},
   "source": [
    "# answer:  Variables in Python are symbolic names used to store data. They act as containers for holding values like numbers, strings, or objects. To declare a variable, you simply assign a name to it using the format variable_name = value. For example, x = 10 creates a variable named \"x\" with a value of 10."
   ]
  },
  {
   "cell_type": "markdown",
   "id": "659735d9-a55c-4167-89fb-a0a3bab19c9f",
   "metadata": {},
   "source": [
    "# Q3. How do you convert one data type to another in Python?"
   ]
  },
  {
   "cell_type": "markdown",
   "id": "f351b0cc-2bae-44e7-84f4-475be7a1bb95",
   "metadata": {},
   "source": [
    "# answer : we  can convert one data type to another in Python using type casting functions. \n",
    "  # For example, to convert a variable x from integer to a string, use str(x). Similarly, int(), float(), list(), and other functions are available for converting between different data types."
   ]
  },
  {
   "cell_type": "markdown",
   "id": "7ea82cab-28d0-4b64-9aa0-4b58f3ebfb7b",
   "metadata": {},
   "source": [
    "# Q4. How do you write and execute a Python script from the command line?"
   ]
  },
  {
   "cell_type": "markdown",
   "id": "b1906238-ce21-4df8-b650-b28df2d760db",
   "metadata": {},
   "source": [
    "# answer : To write and execute a Python script from the command line, following are the steps:\n",
    "\n",
    "# 1 .Create a new text file with a .py extension, e.g., myscript.py.\n",
    " # 2 .Write your Python code in the text file using a text editor.\n",
    "# 3 .Save the file and navigate to its directory using the command line.\n",
    " # 4. Run the script using the command: python myscript.py."
   ]
  },
  {
   "cell_type": "markdown",
   "id": "04c4af29-ae67-458b-a699-6bceb4e1d1db",
   "metadata": {},
   "source": [
    "# Q5. Given a list my_list = [1, 2, 3, 4, 5], write the code to slice the list and obtain the sub-list [2, 3]."
   ]
  },
  {
   "cell_type": "markdown",
   "id": "cc0349ad-b161-48e1-a1d5-d8955c70f98a",
   "metadata": {},
   "source": [
    "# answer : To slice the list my_list and obtain the sub-list [2, 3], we can use the slicing feature in Python. The index starts from 0, so to obtain the sub-list [2, 3], we  need to use slice indices 1 and 3 (exclusive). Here's the code to do it:\n",
    "\n"
   ]
  },
  {
   "cell_type": "code",
   "execution_count": 7,
   "id": "1ee3fbb2-d6ab-4e2c-879b-3512fc29e631",
   "metadata": {},
   "outputs": [
    {
     "name": "stdout",
     "output_type": "stream",
     "text": [
      "[2, 3]\n"
     ]
    }
   ],
   "source": [
    "my_list = [1,2,3,4,5]\n",
    "sub_list = my_list[1:3]\n",
    "print(sub_list)"
   ]
  },
  {
   "cell_type": "markdown",
   "id": "d5ba64d7-4ea4-4ffb-a604-e8a27df74fbc",
   "metadata": {},
   "source": [
    "# Q6. What is a complex number in mathematics, and how is it represented in Python? "
   ]
  },
  {
   "cell_type": "markdown",
   "id": "563a3ef5-6e49-4d5f-8224-f4727d76e272",
   "metadata": {},
   "source": [
    "# answer: In mathematics, a complex number is a number of the form \"a + bi,\" where \"a\" and \"b\" are real numbers, and \"i\" represents the imaginary unit (√-1). In Python, complex numbers are represented as \"a + bj,\" where \"j\" is the equivalent of the imaginary unit \"i\" in mathematics."
   ]
  },
  {
   "cell_type": "markdown",
   "id": "ebb4c948-ebdc-45ba-9d35-c69604ad4cf9",
   "metadata": {},
   "source": [
    "# Q7. What is the correct way to declare a variable named age and assign the value 25 to it?"
   ]
  },
  {
   "cell_type": "markdown",
   "id": "9a012431-9173-4ba5-acab-c4bed51091b9",
   "metadata": {},
   "source": [
    "# answer : The correct way to declare a variable named age and assign the value 25 to it in Python is as follows:"
   ]
  },
  {
   "cell_type": "code",
   "execution_count": 14,
   "id": "40ccadb1-75f2-4a59-a219-cc964a658581",
   "metadata": {},
   "outputs": [],
   "source": [
    "age = 25 "
   ]
  },
  {
   "cell_type": "markdown",
   "id": "697bbc5f-66bd-463a-9cd2-ac52e9ae0819",
   "metadata": {},
   "source": [
    "# After executing this line of code, the variable age will be created and assigned the value 25."
   ]
  },
  {
   "cell_type": "markdown",
   "id": "2a2de0bd-46e1-42a0-9c1c-8bf293909b7c",
   "metadata": {},
   "source": [
    "# Q8. Declare a variable named price and assign the value 9.99 to it. What data type does this variable belong to ?"
   ]
  },
  {
   "cell_type": "markdown",
   "id": "e782ab59-14b6-49ac-9676-1e4caf3f3a2f",
   "metadata": {
    "tags": []
   },
   "source": [
    "# answer : To declare a variable named price and assign the value 9.99 to it in Python:"
   ]
  },
  {
   "cell_type": "code",
   "execution_count": 15,
   "id": "d2d49b8d-8feb-4ac1-bd5a-57b2f1a668cd",
   "metadata": {},
   "outputs": [],
   "source": [
    "price = 9.99"
   ]
  },
  {
   "cell_type": "markdown",
   "id": "95fe4494-d9ec-4308-a5ff-c6517e1cebdf",
   "metadata": {},
   "source": [
    "# The data type of the variable price is a floating-point number, as it contains a decimal point. In Python, any number with a decimal point is considered a float data type."
   ]
  },
  {
   "cell_type": "markdown",
   "id": "f67482fa-4458-4e2a-88ac-0135101d0b9d",
   "metadata": {},
   "source": [
    "# Q9. Create a variable named name and assign your full name to it as a string. How would you print the value of this variable?"
   ]
  },
  {
   "cell_type": "markdown",
   "id": "466c5f57-1109-45d3-90c5-e08a7e42f3eb",
   "metadata": {},
   "source": [
    "# answer :To create a variable named name and assign your full name to it as a string:"
   ]
  },
  {
   "cell_type": "code",
   "execution_count": 16,
   "id": "303557d9-0e91-4336-96e7-e62fc6b7fd81",
   "metadata": {},
   "outputs": [
    {
     "name": "stdout",
     "output_type": "stream",
     "text": [
      " anjali savita\n"
     ]
    }
   ],
   "source": [
    "name = \" anjali savita\"\n",
    "print(name)"
   ]
  },
  {
   "cell_type": "markdown",
   "id": "c1247ed2-a267-4020-b60a-159868e98800",
   "metadata": {},
   "source": [
    "# Replace \"Your Full Name\" with your actual full name in the variable assignment to store your name as a string, and then use the print() function to display its value."
   ]
  },
  {
   "cell_type": "markdown",
   "id": "a3afc6ef-a0af-40cc-bdc4-dcfeec32e58c",
   "metadata": {},
   "source": [
    "# Q10. Given the string \"Hello, World!\", extract the substring \"World\"."
   ]
  },
  {
   "cell_type": "markdown",
   "id": "f0e97167-d9c9-46af-8339-a7f5adeb9f33",
   "metadata": {},
   "source": [
    "# To extract the substring \"World\" from the string \"Hello, World!\", you can use string slicing in Python. Here's the code:"
   ]
  },
  {
   "cell_type": "code",
   "execution_count": 18,
   "id": "5c458f23-5a8b-49b0-b67e-9b545730bcdc",
   "metadata": {},
   "outputs": [
    {
     "name": "stdout",
     "output_type": "stream",
     "text": [
      "world\n"
     ]
    }
   ],
   "source": [
    "string = \"hello, world!\"\n",
    "substring = string[7:12]\n",
    "print(substring)"
   ]
  },
  {
   "cell_type": "markdown",
   "id": "98aa474a-1ef2-415a-93df-4ac354464cd3",
   "metadata": {},
   "source": [
    "# The substring is obtained by slicing the original string from index 7 (inclusive) to index 12 (exclusive). This extracts the portion \"World\" from \"Hello, World!\"."
   ]
  },
  {
   "cell_type": "markdown",
   "id": "4d3d2f2b-80d1-4952-9b50-3a0e8b6637af",
   "metadata": {},
   "source": [
    "# Q11. Create a variable named \"is_student\" and assign it a boolean value indicating whether you are currently a student or not."
   ]
  },
  {
   "cell_type": "markdown",
   "id": "07111fa8-581f-496c-b61d-d91bc0aa96f7",
   "metadata": {},
   "source": [
    "# To create a variable named is_student and assign it a boolean value indicating whether you are currently a student or not:\n"
   ]
  },
  {
   "cell_type": "markdown",
   "id": "d96e2bf0-d6f3-4599-8d1e-6f709d33cbee",
   "metadata": {},
   "source": [
    "# is_student = True  # If you are a student\n",
    "# or\n",
    "# is_student = False  # If you are not a student\n",
    "\n",
    "# Choose True if you are currently a student and False if you are not.\n",
    "\n",
    "\n",
    "\n",
    "\n"
   ]
  },
  {
   "cell_type": "code",
   "execution_count": null,
   "id": "4c692310-57df-403a-97d2-19efcae2ce40",
   "metadata": {},
   "outputs": [],
   "source": []
  },
  {
   "cell_type": "code",
   "execution_count": null,
   "id": "a8c52594-bd39-4c9c-b2fd-56f560aca981",
   "metadata": {},
   "outputs": [],
   "source": []
  },
  {
   "cell_type": "code",
   "execution_count": null,
   "id": "2f94244f-83f6-4dd8-827c-2d62543f8153",
   "metadata": {},
   "outputs": [],
   "source": []
  },
  {
   "cell_type": "code",
   "execution_count": null,
   "id": "d6e57c0b-6e47-47ea-8807-205864985073",
   "metadata": {},
   "outputs": [],
   "source": []
  },
  {
   "cell_type": "code",
   "execution_count": null,
   "id": "3eadb28e-ff0f-4bf0-8ce2-7ba3e7cd31df",
   "metadata": {},
   "outputs": [],
   "source": []
  },
  {
   "cell_type": "code",
   "execution_count": null,
   "id": "5656ffdd-344b-4e00-b563-e89bc0cbc2da",
   "metadata": {},
   "outputs": [],
   "source": []
  },
  {
   "cell_type": "code",
   "execution_count": null,
   "id": "b86634e5-46f3-42f5-89d1-69d80f021215",
   "metadata": {},
   "outputs": [],
   "source": []
  },
  {
   "cell_type": "code",
   "execution_count": null,
   "id": "926db8ad-ad80-420f-8524-d67e72333e2e",
   "metadata": {},
   "outputs": [],
   "source": []
  },
  {
   "cell_type": "code",
   "execution_count": null,
   "id": "d4d6d1a5-1589-4526-b8fb-d515a742cac1",
   "metadata": {},
   "outputs": [],
   "source": []
  }
 ],
 "metadata": {
  "kernelspec": {
   "display_name": "Python 3 (ipykernel)",
   "language": "python",
   "name": "python3"
  },
  "language_info": {
   "codemirror_mode": {
    "name": "ipython",
    "version": 3
   },
   "file_extension": ".py",
   "mimetype": "text/x-python",
   "name": "python",
   "nbconvert_exporter": "python",
   "pygments_lexer": "ipython3",
   "version": "3.10.8"
  }
 },
 "nbformat": 4,
 "nbformat_minor": 5
}
